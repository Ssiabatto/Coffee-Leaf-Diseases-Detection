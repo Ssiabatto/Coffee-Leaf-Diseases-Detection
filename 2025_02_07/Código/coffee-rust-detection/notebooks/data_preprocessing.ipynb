{
 "cells": [
  {
   "cell_type": "markdown",
   "metadata": {},
   "source": [
    "# Data Preprocessing for Coffee Rust Detection\n",
    "\n",
    "This notebook is used for preprocessing the dataset of coffee leaves, including both healthy and infected samples. The preprocessing steps include loading images, resizing them, and applying data augmentation techniques to enhance the dataset for training."
   ]
  },
  {
   "cell_type": "code",
   "execution_count": null,
   "metadata": {
    "id": "load_images"
   },
   "outputs": [],
   "source": [
    "import os\n",
    "import numpy as np\n",
    "import cv2\n",
    "import matplotlib.pyplot as plt\n",
    "from tensorflow.keras.preprocessing.image import ImageDataGenerator\n",
    "\n",
    "# Define paths\n",
    "healthy_dir = '../data/healthy'\n",
    "infected_dir = '../data/infected'\n",
    "\n",
    "# Function to load images from a directory\n",
    "def load_images_from_directory(directory):\n",
    "    images = []\n",
    "    labels = []\n",
    "    for label, category in enumerate(['healthy', 'infected']):\n",
    "        path = os.path.join(directory, category)\n",
    "        for img_name in os.listdir(path):\n",
    "            img_path = os.path.join(path, img_name)\n",
    "            img = cv2.imread(img_path)\n",
    "            img = cv2.resize(img, (224, 224))  # Resize to match MobileNetV2 input size\n",
    "            images.append(img)\n",
    "            labels.append(label)\n",
    "    return np.array(images), np.array(labels)\n",
    "\n",
    "# Load images\n",
    "images, labels = load_images_from_directory('../data')\n",
    "print(f'Loaded {len(images)} images with labels {np.unique(labels)}')"
   ]
  },
  {
   "cell_type": "code",
   "execution_count": null,
   "metadata": {
    "id": "data_augmentation"
   },
   "outputs": [],
   "source": [
    "# Data Augmentation\n",
    "datagen = ImageDataGenerator(\n",
    "    rotation_range=20,\n",
    "    width_shift_range=0.2,\n",
    "    height_shift_range=0.2,\n",
    "    shear_range=0.2,\n",
    "    zoom_range=0.2,\n",
    "    horizontal_flip=True,\n",
    "    fill_mode='nearest'\n",
    ")\n",
    "\n",
    "# Example of using the data generator\n",
    "sample_image = images[0].reshape((1, 224, 224, 3))  # Reshape for the generator\n",
    "i = 0\n",
    "for batch in datagen.flow(sample_image, batch_size=1):\n",
    "    plt.imshow(batch[0].astype('uint8'))\n",
    "    plt.axis('off')\n",
    "    plt.show()\n",
    "    i += 1\n",
    "    if i > 5:\n",
    "        break  # Show 6 augmented images"
   ]
  }
 ],
 "metadata": {
  "kernelspec": {
   "display_name": "Python 3",
   "language": "python",
   "name": "python3"
  },
  "language_info": {
   "codemirror_mode": {
    "name": "ipython",
    "version": 3
   },
   "file_extension": ".py",
   "mimetype": "text/x-python",
   "name": "python",
   "nbconvert_exporter": "python",
   "pygments_lexer": "ipython3",
   "version": "3.8.5"
  }
 },
 "nbformat": 4,
 "nbformat_minor": 4
}